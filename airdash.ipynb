{
 "nbformat": 4,
 "nbformat_minor": 0,
 "metadata": {
  "colab": {
   "provenance": [],
   "collapsed_sections": [
    "hMX_QEqHJ_Vn",
    "hi8rr-BUmFVx"
   ],
   "authorship_tag": "ABX9TyOfq5GlvueCAmhI/dzuf/tO",
   "include_colab_link": true
  },
  "kernelspec": {
   "name": "python3",
   "display_name": "Python 3"
  },
  "language_info": {
   "name": "python"
  }
 },
 "cells": [
  {
   "cell_type": "markdown",
   "metadata": {
    "id": "view-in-github",
    "colab_type": "text"
   },
   "source": [
    "<a href=\"https://colab.research.google.com/github/mdarnowski/airdash/blob/main/airdash.ipynb\" target=\"_parent\"><img src=\"https://colab.research.google.com/assets/colab-badge.svg\" alt=\"Open In Colab\"/></a>"
   ]
  },
  {
   "cell_type": "markdown",
   "source": [
    "#Imports"
   ],
   "metadata": {
    "id": "uyWrB0c03RTP"
   }
  },
  {
   "cell_type": "code",
   "source": [
    "!pip install scikit-learn\n",
    "!pip install requests\n",
    "!pip install pandas\n",
    "!pip install tensorflow\n",
    "!pip install jupyter-dash\n",
    "!pip install dash\n",
    "!pip install plotly\n",
    "!pip install seaborn\n",
    "!pip install numpy\n",
    "!pip install tensorflow"
   ],
   "metadata": {
    "colab": {
     "base_uri": "https://localhost:8080/"
    },
    "id": "ulweVvUA3Uxs",
    "outputId": "84608185-4095-4e7e-9575-d54af51d79c7"
   },
   "execution_count": null,
   "outputs": []
  },
  {
   "cell_type": "code",
   "source": [
    "import requests\n",
    "import zipfile\n",
    "import io\n",
    "import numpy as np\n",
    "import pandas as pd\n",
    "import plotly.express as px\n",
    "import plotly.graph_objects as go\n",
    "from sklearn.ensemble import RandomForestRegressor\n",
    "from sklearn.model_selection import train_test_split\n",
    "from sklearn.metrics import mean_squared_error\n",
    "from sklearn.linear_model import LinearRegression\n",
    "from sklearn.preprocessing import MinMaxScaler\n",
    "from keras.layers import MaxPooling1D, Conv1D, LSTM, Dense, Dropout\n",
    "from keras.models import Sequential\n",
    "from jupyter_dash import JupyterDash\n",
    "from dash import dcc\n",
    "from dash import html\n",
    "from dash.dependencies import Input, Output, State\n",
    "from dash import dash_table\n",
    "from dash.exceptions import PreventUpdate"
   ],
   "metadata": {
    "id": "M8gNukf83Wm1"
   },
   "execution_count": null,
   "outputs": []
  },
  {
   "cell_type": "markdown",
   "source": [
    "#Data Loading"
   ],
   "metadata": {
    "id": "hMX_QEqHJ_Vn"
   }
  },
  {
   "cell_type": "code",
   "source": [
    "def load_data(url):\n",
    "    df = pd.DataFrame\n",
    "    response = requests.get(url)\n",
    "    if response.status_code == 200:\n",
    "        zip_file = zipfile.ZipFile(io.BytesIO(response.content))\n",
    "        data_file = zip_file.namelist()[0]\n",
    "        df = pd.read_csv(zip_file.open(data_file), delimiter=';')\n",
    "\n",
    "        # Convert columns to numerical if possible\n",
    "        for col in df.columns:\n",
    "            df[col] = df[col].apply(\n",
    "                lambda x: pd.to_numeric(x.replace(',', '.'), errors='coerce')\n",
    "                if isinstance(x, str) else x)\n",
    "\n",
    "    return df\n",
    "\n",
    "def clean_data(df, fill_value):\n",
    "    df = df.dropna(axis=1, how='all')\n",
    "    df = df.replace(-200, np.nan)\n",
    "    df = df.fillna(df.median())\n",
    "\n",
    "    return df"
   ],
   "metadata": {
    "id": "Tf4SlvcxKBlp"
   },
   "execution_count": null,
   "outputs": []
  },
  {
   "cell_type": "markdown",
   "source": [
    "#Model"
   ],
   "metadata": {
    "id": "KfqGela6_WZ_"
   }
  },
  {
   "cell_type": "code",
   "source": [
    "def create_and_compile_model(input_shape):\n",
    "    model = Sequential()\n",
    "    model.add(Conv1D(filters=64, kernel_size=3, activation='relu', input_shape=input_shape))\n",
    "    model.add(MaxPooling1D(pool_size=2))\n",
    "    model.add(LSTM(units=50, return_sequences=True))\n",
    "    model.add(Dropout(0.2))\n",
    "    model.add(LSTM(units=50))\n",
    "    model.add(Dropout(0.2))\n",
    "    model.add(Dense(units=1))\n",
    "    model.compile(optimizer='adam', loss='mean_squared_error')\n",
    "    return model\n",
    "\n",
    "\n",
    "def train_and_predict_model(X_train, y_train, X_test, y_test):\n",
    "    model = create_and_compile_model((X_train.shape[1], X_train.shape[2]))\n",
    "    model.fit(X_train, y_train, epochs=10, validation_data=(X_test, y_test))\n",
    "    y_pred = model.predict(X_test)\n",
    "    return y_pred, model"
   ],
   "metadata": {
    "id": "qV0rEVAX_aUM"
   },
   "execution_count": null,
   "outputs": []
  },
  {
   "cell_type": "markdown",
   "source": [
    "#Plotting"
   ],
   "metadata": {
    "id": "hi8rr-BUmFVx"
   }
  },
  {
   "cell_type": "code",
   "source": [
    "def get_target_and_features(df, target_prefix='target'):\n",
    "    target_columns = [col for col in df.columns if col.startswith(target_prefix)]\n",
    "    if not target_columns:\n",
    "        return None, None\n",
    "    target = target_columns[0]\n",
    "    features = df.drop(columns=target_columns)\n",
    "    return target, features\n",
    "\n",
    "def create_data_preview_table(df):\n",
    "    return dash_table.DataTable(\n",
    "        data=df.head(15).to_dict('records'),\n",
    "        columns=[{'name': i, 'id': i} for i in df.columns],\n",
    "        style_table={'overflowX': 'scroll'}\n",
    "    )\n",
    "\n",
    "def create_heatmap_graph(df):\n",
    "    correlation = df.corr()\n",
    "    heatmap = px.imshow(correlation)\n",
    "    return dcc.Graph(figure=heatmap)\n",
    "\n",
    "def create_histogram(df):\n",
    "    fig = go.Figure()\n",
    "    for col in df.select_dtypes(include=[np.number]).columns:\n",
    "        fig.add_trace(go.Histogram(x=df[col], name=col))\n",
    "    fig.update_layout(barmode='overlay')\n",
    "    fig.update_traces(opacity=0.75)\n",
    "    return dcc.Graph(figure=fig)\n",
    "\n",
    "def create_boxplot(df):\n",
    "    fig = go.Figure()\n",
    "    for col in df.select_dtypes(include=[np.number]).columns:\n",
    "        fig.add_trace(go.Box(y=df[col], name=col))\n",
    "    return dcc.Graph(figure=fig)\n",
    "\n",
    "def create_feature_importance_plot(df):\n",
    "    target, features = get_target_and_features(df)\n",
    "    if target is None or features is None:\n",
    "        return html.Div(\"No target column found\")\n",
    "\n",
    "    if not df[target].dtype.kind in 'biufc':\n",
    "        return html.Div(\"Target column is not numerical\")\n",
    "\n",
    "    model = RandomForestRegressor(n_estimators=100)\n",
    "    model.fit(features, df[target])\n",
    "\n",
    "    importances = model.feature_importances_\n",
    "    feature_importances = pd.DataFrame({\n",
    "        'feature': features.columns,\n",
    "        'importance': importances\n",
    "    })\n",
    "\n",
    "    fig = px.bar(feature_importances.sort_values(by='importance', ascending=False),\n",
    "                 x='feature',\n",
    "                 y='importance',\n",
    "                 labels={\n",
    "                     'importance':'Feature Importance',\n",
    "                     'feature': 'Feature'\n",
    "                 },\n",
    "                 title='Feature Importance for {}'.format(target))\n",
    "\n",
    "    return dcc.Graph(figure=fig)\n",
    "\n",
    "def create_residuals_plot(df):\n",
    "    target, features = get_target_and_features(df)\n",
    "    if target is None or features is None:\n",
    "        return html.Div(\"No target column found\")\n",
    "\n",
    "    if not df[target].dtype.kind in 'biufc':\n",
    "        return html.Div(\"Target column is not numerical\")\n",
    "\n",
    "    X_train, X_test, y_train, y_test = train_test_split(features, df[target], test_size=0.3, random_state=0)\n",
    "\n",
    "    model = LinearRegression()\n",
    "    model.fit(X_train, y_train)\n",
    "    predictions = model.predict(X_test)\n",
    "\n",
    "    residuals = y_test - predictions\n",
    "\n",
    "    fig = px.scatter(x=predictions,\n",
    "                     y=residuals, labels={'x': 'Predicted', 'y': 'Residuals'})\n",
    "    fig.add_trace(go.Scatter(x=predictions,\n",
    "                             y=[0]*len(predictions),\n",
    "                             mode='lines',\n",
    "                             name='Residuals=0', line=dict(color='red')))\n",
    "\n",
    "    fig.update_layout(title='Residuals vs Predicted values for {}'.format(target))\n",
    "    return dcc.Graph(figure=fig)\n",
    "\n",
    "def create_scatter_plots(df):\n",
    "    fig = go.Figure()\n",
    "    target, features = get_target_and_features(df)\n",
    "    if target is None or features is None:\n",
    "        return html.Div(\"No target column found\")\n",
    "\n",
    "    numeric_columns = features.select_dtypes(include=[np.number]).columns\n",
    "\n",
    "    for col in numeric_columns:\n",
    "        fig.add_trace(go.Scatter(x=df[col], y=df[target], mode='markers', name=col))\n",
    "\n",
    "    fig.update_layout(title='Scatter Plots', xaxis_title='Features', yaxis_title='Target')\n",
    "\n",
    "    return dcc.Graph(figure=fig)\n",
    "\n",
    "def crnn_prediction(df):\n",
    "    target, features = get_target_and_features(df)\n",
    "    if target is None or features is None:\n",
    "        return html.Div(\"No target column found\")\n",
    "\n",
    "    x = features.values\n",
    "    y = df[target].values\n",
    "\n",
    "    scaler = MinMaxScaler(feature_range=(0, 1))\n",
    "    x = scaler.fit_transform(x)\n",
    "    y = scaler.fit_transform(y.reshape(-1, 1))\n",
    "\n",
    "    x_train, x_test, y_train, y_test = train_test_split(x, y, test_size=0.35, random_state=42)\n",
    "\n",
    "    x_train = np.reshape(x_train, (x_train.shape[0], x_train.shape[1], 1))\n",
    "    x_test = np.reshape(x_test, (x_test.shape[0], x_test.shape[1], 1))\n",
    "\n",
    "    y_pred, model = train_and_predict_model(x_train, y_train, x_test, y_test)\n",
    "\n",
    "    y_pred = scaler.inverse_transform(y_pred)\n",
    "    y_test = scaler.inverse_transform(y_test)\n",
    "\n",
    "    mse = mean_squared_error(y_test, y_pred)\n",
    "\n",
    "    fig = go.Figure()\n",
    "    fig.add_trace(go.Scatter(x=np.arange(len(y_test)), y=y_test.flatten(), mode='lines', name='Actual'))\n",
    "    fig.add_trace(go.Scatter(x=np.arange(len(y_pred)), y=y_pred.flatten(), mode='lines', name='Predicted'))\n",
    "    fig.update_layout(\n",
    "        title='Actual vs. Predicted {}, Mean Squared Error: {}'.format(target, mse),\n",
    "        xaxis=dict(title='Index'),\n",
    "        yaxis=dict(title='Value'),\n",
    "    )\n",
    "\n",
    "    return dcc.Graph(figure=fig)"
   ],
   "metadata": {
    "id": "Bdy2Urig2DY3"
   },
   "execution_count": null,
   "outputs": []
  },
  {
   "cell_type": "code",
   "source": [
    "GRAPH_CONFIG = {\n",
    "    'data-preview': {\n",
    "        'label': 'Data Preview',\n",
    "        'function': create_data_preview_table\n",
    "    },\n",
    "    'heatmap': {\n",
    "        'label': 'Heatmap',\n",
    "        'function': create_heatmap_graph\n",
    "    },\n",
    "    'histogram': {\n",
    "        'label': 'Histogram',\n",
    "        'function': create_histogram\n",
    "    },\n",
    "    'boxplot': {\n",
    "        'label': 'Boxplot',\n",
    "        'function': create_boxplot\n",
    "    },\n",
    "    'feature-importance': {\n",
    "        'label': 'Feature Importance',\n",
    "        'function': create_feature_importance_plot\n",
    "    },\n",
    "    'residuals-plot': {\n",
    "        'label': 'Residuals Plot',\n",
    "        'function': create_residuals_plot\n",
    "    },\n",
    "    'scatter-plot': {\n",
    "        'label': 'Scatter Plot',\n",
    "        'function': create_scatter_plots\n",
    "    },\n",
    "    'crnn': {\n",
    "        'label': 'CRNN',\n",
    "        'function': crnn_prediction\n",
    "    }\n",
    "}"
   ],
   "metadata": {
    "id": "PnJ8FWBLmHGX"
   },
   "execution_count": null,
   "outputs": []
  },
  {
   "cell_type": "markdown",
   "source": [
    "#App"
   ],
   "metadata": {
    "id": "YllqCbUe3a_q"
   }
  },
  {
   "cell_type": "code",
   "source": [
    "app = JupyterDash(__name__)\n",
    "\n",
    "default_url = 'https://archive.ics.uci.edu/ml/machine-learning-databases/00360/AirQualityUCI.zip'\n",
    "\n",
    "app.layout = html.Div(\n",
    "    children=[\n",
    "        html.Div(\n",
    "            children=[\n",
    "                dcc.Dropdown(\n",
    "                    id=\"action-dropdown\",\n",
    "                    options=[{'label': cfg['label'], 'value': key}\n",
    "                             for key, cfg in GRAPH_CONFIG.items()],\n",
    "                    value=None,\n",
    "                    placeholder=\"Select an action\",\n",
    "                    style={'width': '200px', 'marginRight': '0.5em'}\n",
    "                ),\n",
    "                dcc.Dropdown(\n",
    "                    id=\"column-dropdown\",\n",
    "                    placeholder=\"Select a column\",\n",
    "                    style={'width': '200px', 'marginRight': '0.5em'}\n",
    "                ),\n",
    "                html.Button(\n",
    "                    \"Go\",\n",
    "                    id=\"action-button\",\n",
    "                    n_clicks=0,\n",
    "                    style={'marginLeft': '0.5em'}\n",
    "                ),\n",
    "            ],\n",
    "            style={'display': 'flex', 'alignItems': 'center', 'marginBottom': '1em'}\n",
    "        ),\n",
    "        html.Div(\n",
    "            children=[\n",
    "                dcc.Input(\n",
    "                    id=\"url-input\",\n",
    "                    type=\"text\",\n",
    "                    placeholder=\"Enter URL\",\n",
    "                    value=default_url,\n",
    "                    style={'width': '100%'}\n",
    "                )\n",
    "            ],\n",
    "            style={'display': 'flex', 'alignItems': 'center', 'marginBottom': '1em'}\n",
    "        ),\n",
    "\n",
    "        dcc.Loading(\n",
    "            id=\"loading\",\n",
    "            type=\"circle\",\n",
    "            children=[\n",
    "                html.Div(id=\"output-container\")\n",
    "            ],\n",
    "            className=\"loading-container\",\n",
    "            style={\"display\": \"none\"}\n",
    "        )\n",
    "    ],\n",
    "    style={'margin': '1em'}\n",
    ")"
   ],
   "metadata": {
    "id": "C_tgCKmU3d9q"
   },
   "execution_count": null,
   "outputs": []
  },
  {
   "cell_type": "code",
   "source": [
    "@app.callback(\n",
    "    [Output(\"output-container\", \"children\"), Output('column-dropdown', 'options')],\n",
    "    [Input(\"action-button\", \"n_clicks\")],\n",
    "    [State(\"url-input\", \"value\"), State(\"action-dropdown\", \"value\"), State('column-dropdown', 'value')],\n",
    "    prevent_initial_call=True\n",
    ")\n",
    "def update_output(n_clicks, url, action, target):\n",
    "    if n_clicks is None:\n",
    "        raise PreventUpdate\n",
    "\n",
    "    try:\n",
    "        df = load_data(url)\n",
    "    except:\n",
    "        return html.Div('try another URL'), []\n",
    "\n",
    "    if df.empty:\n",
    "        return html.Div('the dataset is empty'), []\n",
    "\n",
    "    if target is not None and target in df.columns:\n",
    "        df.rename(columns={target: f'target_{target}'}, inplace=True)\n",
    "    df = clean_data(df, 0)\n",
    "    columns = [{'label': col, 'value': col} for col in df.columns]\n",
    "    if action in GRAPH_CONFIG:\n",
    "        graph_function = GRAPH_CONFIG[action]['function']\n",
    "        return graph_function(df), columns\n",
    "    else:\n",
    "        return html.Div([]), columns\n",
    "\n",
    "@app.callback(\n",
    "    Output(\"loading\", \"style\"),\n",
    "    [Input(\"action-button\", \"n_clicks\")]\n",
    ")\n",
    "def toggle_loading(n_clicks):\n",
    "    if n_clicks is not None and n_clicks > 0:\n",
    "        return {\"display\": \"block\"}\n",
    "    return {\"display\": \"none\"}"
   ],
   "metadata": {
    "id": "06wGJn2wDL_O"
   },
   "execution_count": null,
   "outputs": []
  },
  {
   "cell_type": "markdown",
   "source": [
    "#Run server"
   ],
   "metadata": {
    "id": "Hhfrpzq8DFBq"
   }
  },
  {
   "cell_type": "code",
   "source": [
    "app.run_server(mode='inline')"
   ],
   "metadata": {
    "colab": {
     "base_uri": "https://localhost:8080/",
     "height": 741
    },
    "id": "YoRYg-M1BelJ",
    "outputId": "ce4409b7-6431-485d-f6b6-c6d972c781c1"
   },
   "execution_count": null,
   "outputs": []
  }
 ]
}
